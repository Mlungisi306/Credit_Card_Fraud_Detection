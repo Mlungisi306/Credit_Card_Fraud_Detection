{
 "cells": [
  {
   "cell_type": "code",
   "execution_count": 24,
   "metadata": {},
   "outputs": [
    {
     "data": {
      "text/html": [
       "<div>\n",
       "<style scoped>\n",
       "    .dataframe tbody tr th:only-of-type {\n",
       "        vertical-align: middle;\n",
       "    }\n",
       "\n",
       "    .dataframe tbody tr th {\n",
       "        vertical-align: top;\n",
       "    }\n",
       "\n",
       "    .dataframe thead th {\n",
       "        text-align: right;\n",
       "    }\n",
       "</style>\n",
       "<table border=\"1\" class=\"dataframe\">\n",
       "  <thead>\n",
       "    <tr style=\"text-align: right;\">\n",
       "      <th></th>\n",
       "      <th>Time</th>\n",
       "      <th>V1</th>\n",
       "      <th>V2</th>\n",
       "      <th>V3</th>\n",
       "      <th>V4</th>\n",
       "      <th>V5</th>\n",
       "      <th>V6</th>\n",
       "      <th>V7</th>\n",
       "      <th>V8</th>\n",
       "      <th>V9</th>\n",
       "      <th>...</th>\n",
       "      <th>V21</th>\n",
       "      <th>V22</th>\n",
       "      <th>V23</th>\n",
       "      <th>V24</th>\n",
       "      <th>V25</th>\n",
       "      <th>V26</th>\n",
       "      <th>V27</th>\n",
       "      <th>V28</th>\n",
       "      <th>Amount</th>\n",
       "      <th>Class</th>\n",
       "    </tr>\n",
       "  </thead>\n",
       "  <tbody>\n",
       "    <tr>\n",
       "      <th>0</th>\n",
       "      <td>0.0</td>\n",
       "      <td>-1.359807</td>\n",
       "      <td>-0.072781</td>\n",
       "      <td>2.536347</td>\n",
       "      <td>1.378155</td>\n",
       "      <td>-0.338321</td>\n",
       "      <td>0.462388</td>\n",
       "      <td>0.239599</td>\n",
       "      <td>0.098698</td>\n",
       "      <td>0.363787</td>\n",
       "      <td>...</td>\n",
       "      <td>-0.018307</td>\n",
       "      <td>0.277838</td>\n",
       "      <td>-0.110474</td>\n",
       "      <td>0.066928</td>\n",
       "      <td>0.128539</td>\n",
       "      <td>-0.189115</td>\n",
       "      <td>0.133558</td>\n",
       "      <td>-0.021053</td>\n",
       "      <td>149.62</td>\n",
       "      <td>0</td>\n",
       "    </tr>\n",
       "    <tr>\n",
       "      <th>1</th>\n",
       "      <td>0.0</td>\n",
       "      <td>1.191857</td>\n",
       "      <td>0.266151</td>\n",
       "      <td>0.166480</td>\n",
       "      <td>0.448154</td>\n",
       "      <td>0.060018</td>\n",
       "      <td>-0.082361</td>\n",
       "      <td>-0.078803</td>\n",
       "      <td>0.085102</td>\n",
       "      <td>-0.255425</td>\n",
       "      <td>...</td>\n",
       "      <td>-0.225775</td>\n",
       "      <td>-0.638672</td>\n",
       "      <td>0.101288</td>\n",
       "      <td>-0.339846</td>\n",
       "      <td>0.167170</td>\n",
       "      <td>0.125895</td>\n",
       "      <td>-0.008983</td>\n",
       "      <td>0.014724</td>\n",
       "      <td>2.69</td>\n",
       "      <td>0</td>\n",
       "    </tr>\n",
       "    <tr>\n",
       "      <th>2</th>\n",
       "      <td>1.0</td>\n",
       "      <td>-1.358354</td>\n",
       "      <td>-1.340163</td>\n",
       "      <td>1.773209</td>\n",
       "      <td>0.379780</td>\n",
       "      <td>-0.503198</td>\n",
       "      <td>1.800499</td>\n",
       "      <td>0.791461</td>\n",
       "      <td>0.247676</td>\n",
       "      <td>-1.514654</td>\n",
       "      <td>...</td>\n",
       "      <td>0.247998</td>\n",
       "      <td>0.771679</td>\n",
       "      <td>0.909412</td>\n",
       "      <td>-0.689281</td>\n",
       "      <td>-0.327642</td>\n",
       "      <td>-0.139097</td>\n",
       "      <td>-0.055353</td>\n",
       "      <td>-0.059752</td>\n",
       "      <td>378.66</td>\n",
       "      <td>0</td>\n",
       "    </tr>\n",
       "    <tr>\n",
       "      <th>3</th>\n",
       "      <td>1.0</td>\n",
       "      <td>-0.966272</td>\n",
       "      <td>-0.185226</td>\n",
       "      <td>1.792993</td>\n",
       "      <td>-0.863291</td>\n",
       "      <td>-0.010309</td>\n",
       "      <td>1.247203</td>\n",
       "      <td>0.237609</td>\n",
       "      <td>0.377436</td>\n",
       "      <td>-1.387024</td>\n",
       "      <td>...</td>\n",
       "      <td>-0.108300</td>\n",
       "      <td>0.005274</td>\n",
       "      <td>-0.190321</td>\n",
       "      <td>-1.175575</td>\n",
       "      <td>0.647376</td>\n",
       "      <td>-0.221929</td>\n",
       "      <td>0.062723</td>\n",
       "      <td>0.061458</td>\n",
       "      <td>123.50</td>\n",
       "      <td>0</td>\n",
       "    </tr>\n",
       "    <tr>\n",
       "      <th>4</th>\n",
       "      <td>2.0</td>\n",
       "      <td>-1.158233</td>\n",
       "      <td>0.877737</td>\n",
       "      <td>1.548718</td>\n",
       "      <td>0.403034</td>\n",
       "      <td>-0.407193</td>\n",
       "      <td>0.095921</td>\n",
       "      <td>0.592941</td>\n",
       "      <td>-0.270533</td>\n",
       "      <td>0.817739</td>\n",
       "      <td>...</td>\n",
       "      <td>-0.009431</td>\n",
       "      <td>0.798278</td>\n",
       "      <td>-0.137458</td>\n",
       "      <td>0.141267</td>\n",
       "      <td>-0.206010</td>\n",
       "      <td>0.502292</td>\n",
       "      <td>0.219422</td>\n",
       "      <td>0.215153</td>\n",
       "      <td>69.99</td>\n",
       "      <td>0</td>\n",
       "    </tr>\n",
       "    <tr>\n",
       "      <th>...</th>\n",
       "      <td>...</td>\n",
       "      <td>...</td>\n",
       "      <td>...</td>\n",
       "      <td>...</td>\n",
       "      <td>...</td>\n",
       "      <td>...</td>\n",
       "      <td>...</td>\n",
       "      <td>...</td>\n",
       "      <td>...</td>\n",
       "      <td>...</td>\n",
       "      <td>...</td>\n",
       "      <td>...</td>\n",
       "      <td>...</td>\n",
       "      <td>...</td>\n",
       "      <td>...</td>\n",
       "      <td>...</td>\n",
       "      <td>...</td>\n",
       "      <td>...</td>\n",
       "      <td>...</td>\n",
       "      <td>...</td>\n",
       "      <td>...</td>\n",
       "    </tr>\n",
       "    <tr>\n",
       "      <th>284802</th>\n",
       "      <td>172786.0</td>\n",
       "      <td>-11.881118</td>\n",
       "      <td>10.071785</td>\n",
       "      <td>-9.834783</td>\n",
       "      <td>-2.066656</td>\n",
       "      <td>-5.364473</td>\n",
       "      <td>-2.606837</td>\n",
       "      <td>-4.918215</td>\n",
       "      <td>7.305334</td>\n",
       "      <td>1.914428</td>\n",
       "      <td>...</td>\n",
       "      <td>0.213454</td>\n",
       "      <td>0.111864</td>\n",
       "      <td>1.014480</td>\n",
       "      <td>-0.509348</td>\n",
       "      <td>1.436807</td>\n",
       "      <td>0.250034</td>\n",
       "      <td>0.943651</td>\n",
       "      <td>0.823731</td>\n",
       "      <td>0.77</td>\n",
       "      <td>0</td>\n",
       "    </tr>\n",
       "    <tr>\n",
       "      <th>284803</th>\n",
       "      <td>172787.0</td>\n",
       "      <td>-0.732789</td>\n",
       "      <td>-0.055080</td>\n",
       "      <td>2.035030</td>\n",
       "      <td>-0.738589</td>\n",
       "      <td>0.868229</td>\n",
       "      <td>1.058415</td>\n",
       "      <td>0.024330</td>\n",
       "      <td>0.294869</td>\n",
       "      <td>0.584800</td>\n",
       "      <td>...</td>\n",
       "      <td>0.214205</td>\n",
       "      <td>0.924384</td>\n",
       "      <td>0.012463</td>\n",
       "      <td>-1.016226</td>\n",
       "      <td>-0.606624</td>\n",
       "      <td>-0.395255</td>\n",
       "      <td>0.068472</td>\n",
       "      <td>-0.053527</td>\n",
       "      <td>24.79</td>\n",
       "      <td>0</td>\n",
       "    </tr>\n",
       "    <tr>\n",
       "      <th>284804</th>\n",
       "      <td>172788.0</td>\n",
       "      <td>1.919565</td>\n",
       "      <td>-0.301254</td>\n",
       "      <td>-3.249640</td>\n",
       "      <td>-0.557828</td>\n",
       "      <td>2.630515</td>\n",
       "      <td>3.031260</td>\n",
       "      <td>-0.296827</td>\n",
       "      <td>0.708417</td>\n",
       "      <td>0.432454</td>\n",
       "      <td>...</td>\n",
       "      <td>0.232045</td>\n",
       "      <td>0.578229</td>\n",
       "      <td>-0.037501</td>\n",
       "      <td>0.640134</td>\n",
       "      <td>0.265745</td>\n",
       "      <td>-0.087371</td>\n",
       "      <td>0.004455</td>\n",
       "      <td>-0.026561</td>\n",
       "      <td>67.88</td>\n",
       "      <td>0</td>\n",
       "    </tr>\n",
       "    <tr>\n",
       "      <th>284805</th>\n",
       "      <td>172788.0</td>\n",
       "      <td>-0.240440</td>\n",
       "      <td>0.530483</td>\n",
       "      <td>0.702510</td>\n",
       "      <td>0.689799</td>\n",
       "      <td>-0.377961</td>\n",
       "      <td>0.623708</td>\n",
       "      <td>-0.686180</td>\n",
       "      <td>0.679145</td>\n",
       "      <td>0.392087</td>\n",
       "      <td>...</td>\n",
       "      <td>0.265245</td>\n",
       "      <td>0.800049</td>\n",
       "      <td>-0.163298</td>\n",
       "      <td>0.123205</td>\n",
       "      <td>-0.569159</td>\n",
       "      <td>0.546668</td>\n",
       "      <td>0.108821</td>\n",
       "      <td>0.104533</td>\n",
       "      <td>10.00</td>\n",
       "      <td>0</td>\n",
       "    </tr>\n",
       "    <tr>\n",
       "      <th>284806</th>\n",
       "      <td>172792.0</td>\n",
       "      <td>-0.533413</td>\n",
       "      <td>-0.189733</td>\n",
       "      <td>0.703337</td>\n",
       "      <td>-0.506271</td>\n",
       "      <td>-0.012546</td>\n",
       "      <td>-0.649617</td>\n",
       "      <td>1.577006</td>\n",
       "      <td>-0.414650</td>\n",
       "      <td>0.486180</td>\n",
       "      <td>...</td>\n",
       "      <td>0.261057</td>\n",
       "      <td>0.643078</td>\n",
       "      <td>0.376777</td>\n",
       "      <td>0.008797</td>\n",
       "      <td>-0.473649</td>\n",
       "      <td>-0.818267</td>\n",
       "      <td>-0.002415</td>\n",
       "      <td>0.013649</td>\n",
       "      <td>217.00</td>\n",
       "      <td>0</td>\n",
       "    </tr>\n",
       "  </tbody>\n",
       "</table>\n",
       "<p>284807 rows × 31 columns</p>\n",
       "</div>"
      ],
      "text/plain": [
       "            Time         V1         V2        V3        V4        V5  \\\n",
       "0            0.0  -1.359807  -0.072781  2.536347  1.378155 -0.338321   \n",
       "1            0.0   1.191857   0.266151  0.166480  0.448154  0.060018   \n",
       "2            1.0  -1.358354  -1.340163  1.773209  0.379780 -0.503198   \n",
       "3            1.0  -0.966272  -0.185226  1.792993 -0.863291 -0.010309   \n",
       "4            2.0  -1.158233   0.877737  1.548718  0.403034 -0.407193   \n",
       "...          ...        ...        ...       ...       ...       ...   \n",
       "284802  172786.0 -11.881118  10.071785 -9.834783 -2.066656 -5.364473   \n",
       "284803  172787.0  -0.732789  -0.055080  2.035030 -0.738589  0.868229   \n",
       "284804  172788.0   1.919565  -0.301254 -3.249640 -0.557828  2.630515   \n",
       "284805  172788.0  -0.240440   0.530483  0.702510  0.689799 -0.377961   \n",
       "284806  172792.0  -0.533413  -0.189733  0.703337 -0.506271 -0.012546   \n",
       "\n",
       "              V6        V7        V8        V9  ...       V21       V22  \\\n",
       "0       0.462388  0.239599  0.098698  0.363787  ... -0.018307  0.277838   \n",
       "1      -0.082361 -0.078803  0.085102 -0.255425  ... -0.225775 -0.638672   \n",
       "2       1.800499  0.791461  0.247676 -1.514654  ...  0.247998  0.771679   \n",
       "3       1.247203  0.237609  0.377436 -1.387024  ... -0.108300  0.005274   \n",
       "4       0.095921  0.592941 -0.270533  0.817739  ... -0.009431  0.798278   \n",
       "...          ...       ...       ...       ...  ...       ...       ...   \n",
       "284802 -2.606837 -4.918215  7.305334  1.914428  ...  0.213454  0.111864   \n",
       "284803  1.058415  0.024330  0.294869  0.584800  ...  0.214205  0.924384   \n",
       "284804  3.031260 -0.296827  0.708417  0.432454  ...  0.232045  0.578229   \n",
       "284805  0.623708 -0.686180  0.679145  0.392087  ...  0.265245  0.800049   \n",
       "284806 -0.649617  1.577006 -0.414650  0.486180  ...  0.261057  0.643078   \n",
       "\n",
       "             V23       V24       V25       V26       V27       V28  Amount  \\\n",
       "0      -0.110474  0.066928  0.128539 -0.189115  0.133558 -0.021053  149.62   \n",
       "1       0.101288 -0.339846  0.167170  0.125895 -0.008983  0.014724    2.69   \n",
       "2       0.909412 -0.689281 -0.327642 -0.139097 -0.055353 -0.059752  378.66   \n",
       "3      -0.190321 -1.175575  0.647376 -0.221929  0.062723  0.061458  123.50   \n",
       "4      -0.137458  0.141267 -0.206010  0.502292  0.219422  0.215153   69.99   \n",
       "...          ...       ...       ...       ...       ...       ...     ...   \n",
       "284802  1.014480 -0.509348  1.436807  0.250034  0.943651  0.823731    0.77   \n",
       "284803  0.012463 -1.016226 -0.606624 -0.395255  0.068472 -0.053527   24.79   \n",
       "284804 -0.037501  0.640134  0.265745 -0.087371  0.004455 -0.026561   67.88   \n",
       "284805 -0.163298  0.123205 -0.569159  0.546668  0.108821  0.104533   10.00   \n",
       "284806  0.376777  0.008797 -0.473649 -0.818267 -0.002415  0.013649  217.00   \n",
       "\n",
       "        Class  \n",
       "0           0  \n",
       "1           0  \n",
       "2           0  \n",
       "3           0  \n",
       "4           0  \n",
       "...       ...  \n",
       "284802      0  \n",
       "284803      0  \n",
       "284804      0  \n",
       "284805      0  \n",
       "284806      0  \n",
       "\n",
       "[284807 rows x 31 columns]"
      ]
     },
     "execution_count": 24,
     "metadata": {},
     "output_type": "execute_result"
    }
   ],
   "source": [
    "import pandas as pd\n",
    "import numpy as np\n",
    "\n",
    "data_set= pd.read_csv('creditcard.csv')\n",
    "data_set"
   ]
  },
  {
   "cell_type": "code",
   "execution_count": 25,
   "metadata": {},
   "outputs": [
    {
     "data": {
      "text/plain": [
       "array([0, 1], dtype=int64)"
      ]
     },
     "execution_count": 25,
     "metadata": {},
     "output_type": "execute_result"
    }
   ],
   "source": [
    "# confirming that the outcomes are binary 1= fraudulent 0=non-fradualent\n",
    "data_set['Class'].unique()"
   ]
  },
  {
   "cell_type": "code",
   "execution_count": 26,
   "metadata": {},
   "outputs": [
    {
     "data": {
      "text/plain": [
       "array([[ 0.00000000e+00, -1.35980713e+00, -7.27811733e-02, ...,\n",
       "         1.33558377e-01, -2.10530535e-02,  1.49620000e+02],\n",
       "       [ 0.00000000e+00,  1.19185711e+00,  2.66150712e-01, ...,\n",
       "        -8.98309914e-03,  1.47241692e-02,  2.69000000e+00],\n",
       "       [ 1.00000000e+00, -1.35835406e+00, -1.34016307e+00, ...,\n",
       "        -5.53527940e-02, -5.97518406e-02,  3.78660000e+02],\n",
       "       ...,\n",
       "       [ 1.72788000e+05,  1.91956501e+00, -3.01253846e-01, ...,\n",
       "         4.45477214e-03, -2.65608286e-02,  6.78800000e+01],\n",
       "       [ 1.72788000e+05, -2.40440050e-01,  5.30482513e-01, ...,\n",
       "         1.08820735e-01,  1.04532821e-01,  1.00000000e+01],\n",
       "       [ 1.72792000e+05, -5.33412522e-01, -1.89733337e-01, ...,\n",
       "        -2.41530880e-03,  1.36489143e-02,  2.17000000e+02]])"
      ]
     },
     "execution_count": 26,
     "metadata": {},
     "output_type": "execute_result"
    }
   ],
   "source": [
    "# extracting numerical values from data \n",
    "features= data_set.columns.drop(['Class'])\n",
    "X=data_set[features].values\n",
    "Y=data_set['Class'].values\n",
    "X"
   ]
  },
  {
   "cell_type": "code",
   "execution_count": 27,
   "metadata": {},
   "outputs": [
    {
     "data": {
      "text/plain": [
       "array([0, 0, 0, ..., 0, 0, 0], dtype=int64)"
      ]
     },
     "execution_count": 27,
     "metadata": {},
     "output_type": "execute_result"
    }
   ],
   "source": [
    "# Splitting the data into the test data and training data\n",
    "from sklearn.model_selection import train_test_split\n",
    "\n",
    "x_train,x_test,y_train,y_test= train_test_split(X,Y,test_size=0.2,random_state=0)\n",
    "y_train"
   ]
  },
  {
   "cell_type": "code",
   "execution_count": 28,
   "metadata": {},
   "outputs": [
    {
     "data": {
      "text/plain": [
       "array([[-0.87750986, -0.57177938,  0.62828369, ...,  0.57377804,\n",
       "        -0.2196612 , -0.30511629],\n",
       "       [-1.15308534,  0.62679248, -0.08362249, ..., -0.17091545,\n",
       "         0.00631402, -0.25423683],\n",
       "       [ 1.26383162,  0.98361214, -0.1198731 , ...,  0.13283995,\n",
       "        -0.10128286, -0.32950779],\n",
       "       ...,\n",
       "       [-0.38349503,  0.77210803, -0.57499928, ..., -0.00209668,\n",
       "         0.01184758, -0.21662151],\n",
       "       [ 0.05096267,  0.91851362, -1.02985151, ..., -0.08231776,\n",
       "        -0.10081197,  0.33333622],\n",
       "       [-0.41989457, -0.30294167,  0.45385207, ...,  0.21715744,\n",
       "         0.36857129, -0.29286006]])"
      ]
     },
     "execution_count": 28,
     "metadata": {},
     "output_type": "execute_result"
    }
   ],
   "source": [
    "# data preprocessing by standardizing the data features\n",
    "from sklearn.preprocessing import StandardScaler\n",
    "scaler=StandardScaler()\n",
    "x_train=scaler.fit_transform(x_train)\n",
    "x_test=scaler.transform(x_test)\n",
    "x_train"
   ]
  },
  {
   "cell_type": "markdown",
   "metadata": {},
   "source": [
    "# Ensemble Methods"
   ]
  },
  {
   "cell_type": "markdown",
   "metadata": {},
   "source": [
    "## Random Forest Classifier"
   ]
  },
  {
   "cell_type": "code",
   "execution_count": 29,
   "metadata": {},
   "outputs": [
    {
     "data": {
      "text/plain": [
       "RandomForestClassifier(bootstrap=True, ccp_alpha=0.0, class_weight=None,\n",
       "                       criterion='gini', max_depth=5, max_features='auto',\n",
       "                       max_leaf_nodes=None, max_samples=None,\n",
       "                       min_impurity_decrease=0.0, min_impurity_split=None,\n",
       "                       min_samples_leaf=1, min_samples_split=2,\n",
       "                       min_weight_fraction_leaf=0.0, n_estimators=100,\n",
       "                       n_jobs=None, oob_score=False, random_state=0, verbose=0,\n",
       "                       warm_start=False)"
      ]
     },
     "execution_count": 29,
     "metadata": {},
     "output_type": "execute_result"
    }
   ],
   "source": [
    "# training the features with random forest model\n",
    "from sklearn.ensemble import RandomForestClassifier\n",
    "\n",
    "rf=RandomForestClassifier(n_estimators=100, max_depth=5, random_state=0)\n",
    "rf.fit(x_train,y_train)"
   ]
  },
  {
   "cell_type": "code",
   "execution_count": 30,
   "metadata": {},
   "outputs": [
    {
     "data": {
      "text/plain": [
       "array([0, 0, 0, ..., 0, 0, 0], dtype=int64)"
      ]
     },
     "execution_count": 30,
     "metadata": {},
     "output_type": "execute_result"
    }
   ],
   "source": [
    "y_prediction=rf.predict(x_test)\n",
    "y_prediction"
   ]
  },
  {
   "cell_type": "code",
   "execution_count": 31,
   "metadata": {},
   "outputs": [],
   "source": [
    "from sklearn import metrics\n",
    "\n",
    "rand_forest_accuracy=metrics.accuracy_score(y_test,y_prediction)*100"
   ]
  },
  {
   "cell_type": "markdown",
   "metadata": {},
   "source": [
    "## Logistic Regression"
   ]
  },
  {
   "cell_type": "code",
   "execution_count": 32,
   "metadata": {},
   "outputs": [
    {
     "data": {
      "text/plain": [
       "LogisticRegression(C=1.0, class_weight=None, dual=False, fit_intercept=True,\n",
       "                   intercept_scaling=1, l1_ratio=None, max_iter=100,\n",
       "                   multi_class='auto', n_jobs=None, penalty='l2',\n",
       "                   random_state=None, solver='lbfgs', tol=0.0001, verbose=0,\n",
       "                   warm_start=False)"
      ]
     },
     "execution_count": 32,
     "metadata": {},
     "output_type": "execute_result"
    }
   ],
   "source": [
    "from sklearn.linear_model import LogisticRegression\n",
    "lr= LogisticRegression()\n",
    "lr.fit(x_train,y_train)"
   ]
  },
  {
   "cell_type": "code",
   "execution_count": 33,
   "metadata": {},
   "outputs": [
    {
     "data": {
      "text/plain": [
       "array([0, 0, 0, ..., 0, 0, 0], dtype=int64)"
      ]
     },
     "execution_count": 33,
     "metadata": {},
     "output_type": "execute_result"
    }
   ],
   "source": [
    "y_prediction=lr.predict(x_test)\n",
    "y_prediction"
   ]
  },
  {
   "cell_type": "code",
   "execution_count": 34,
   "metadata": {},
   "outputs": [],
   "source": [
    "log_reg_accuracy=metrics.accuracy_score(y_test,y_prediction)*100"
   ]
  },
  {
   "cell_type": "markdown",
   "metadata": {},
   "source": [
    "## Naive Bayes"
   ]
  },
  {
   "cell_type": "code",
   "execution_count": 35,
   "metadata": {},
   "outputs": [
    {
     "data": {
      "text/plain": [
       "GaussianNB(priors=None, var_smoothing=1e-09)"
      ]
     },
     "execution_count": 35,
     "metadata": {},
     "output_type": "execute_result"
    }
   ],
   "source": [
    "from sklearn.naive_bayes import GaussianNB\n",
    "nb=GaussianNB()\n",
    "nb.fit(x_train,y_train)\n"
   ]
  },
  {
   "cell_type": "code",
   "execution_count": 36,
   "metadata": {},
   "outputs": [
    {
     "data": {
      "text/plain": [
       "array([0, 0, 0, ..., 0, 0, 0], dtype=int64)"
      ]
     },
     "execution_count": 36,
     "metadata": {},
     "output_type": "execute_result"
    }
   ],
   "source": [
    "y_prediction=nb.predict(x_test)\n",
    "y_prediction"
   ]
  },
  {
   "cell_type": "code",
   "execution_count": 37,
   "metadata": {},
   "outputs": [],
   "source": [
    "naive_bayes=metrics.accuracy_score(y_test,y_prediction)*100"
   ]
  },
  {
   "cell_type": "markdown",
   "metadata": {},
   "source": [
    "## Decision Tree"
   ]
  },
  {
   "cell_type": "code",
   "execution_count": 38,
   "metadata": {},
   "outputs": [
    {
     "data": {
      "text/plain": [
       "DecisionTreeClassifier(ccp_alpha=0.0, class_weight=None, criterion='entropy',\n",
       "                       max_depth=None, max_features=None, max_leaf_nodes=None,\n",
       "                       min_impurity_decrease=0.0, min_impurity_split=None,\n",
       "                       min_samples_leaf=1, min_samples_split=2,\n",
       "                       min_weight_fraction_leaf=0.0, presort='deprecated',\n",
       "                       random_state=0, splitter='best')"
      ]
     },
     "execution_count": 38,
     "metadata": {},
     "output_type": "execute_result"
    }
   ],
   "source": [
    "from sklearn.tree import DecisionTreeClassifier\n",
    "\n",
    "dt= DecisionTreeClassifier(criterion='entropy', random_state=0)\n",
    "dt.fit(x_train,y_train)"
   ]
  },
  {
   "cell_type": "code",
   "execution_count": 39,
   "metadata": {},
   "outputs": [
    {
     "data": {
      "text/plain": [
       "array([0, 0, 0, ..., 0, 0, 0], dtype=int64)"
      ]
     },
     "execution_count": 39,
     "metadata": {},
     "output_type": "execute_result"
    }
   ],
   "source": [
    "y_prediction=dt.predict(x_test)\n",
    "y_prediction"
   ]
  },
  {
   "cell_type": "code",
   "execution_count": 40,
   "metadata": {},
   "outputs": [],
   "source": [
    "Dec_tree=metrics.accuracy_score(y_test,y_prediction)*100"
   ]
  },
  {
   "cell_type": "markdown",
   "metadata": {},
   "source": [
    "## XGBoost"
   ]
  },
  {
   "cell_type": "code",
   "execution_count": 41,
   "metadata": {},
   "outputs": [
    {
     "data": {
      "text/plain": [
       "XGBClassifier(base_score=0.5, booster='gbtree', colsample_bylevel=1,\n",
       "              colsample_bynode=1, colsample_bytree=1, gamma=0, gpu_id=-1,\n",
       "              importance_type='gain', interaction_constraints='',\n",
       "              learning_rate=0.300000012, max_delta_step=0, max_depth=6,\n",
       "              min_child_weight=1, missing=nan, monotone_constraints='()',\n",
       "              n_estimators=100, n_jobs=0, num_parallel_tree=1,\n",
       "              objective='binary:logistic', random_state=0, reg_alpha=0,\n",
       "              reg_lambda=1, scale_pos_weight=1, subsample=1,\n",
       "              tree_method='exact', validate_parameters=1, verbosity=None)"
      ]
     },
     "execution_count": 41,
     "metadata": {},
     "output_type": "execute_result"
    }
   ],
   "source": [
    "from xgboost import XGBClassifier\n",
    "xgb= XGBClassifier()\n",
    "xgb.fit(x_train,y_train)"
   ]
  },
  {
   "cell_type": "code",
   "execution_count": 42,
   "metadata": {},
   "outputs": [
    {
     "data": {
      "text/plain": [
       "array([0, 0, 0, ..., 0, 0, 0], dtype=int64)"
      ]
     },
     "execution_count": 42,
     "metadata": {},
     "output_type": "execute_result"
    }
   ],
   "source": [
    "y_prediction= xgb.predict(x_test)\n",
    "y_prediction"
   ]
  },
  {
   "cell_type": "code",
   "execution_count": 43,
   "metadata": {},
   "outputs": [],
   "source": [
    "xgboost=metrics.accuracy_score(y_test,y_prediction)*100"
   ]
  },
  {
   "cell_type": "markdown",
   "metadata": {},
   "source": [
    "## Artificial Neural Network"
   ]
  },
  {
   "cell_type": "code",
   "execution_count": 46,
   "metadata": {},
   "outputs": [
    {
     "name": "stdout",
     "output_type": "stream",
     "text": [
      "WARNING:tensorflow:From C:\\Users\\Million\\anaconda3\\lib\\site-packages\\tensorflow\\python\\ops\\nn_impl.py:180: add_dispatch_support.<locals>.wrapper (from tensorflow.python.ops.array_ops) is deprecated and will be removed in a future version.\n",
      "Instructions for updating:\n",
      "Use tf.where in 2.0, which has the same broadcast rule as np.where\n",
      "Epoch 1/100\n",
      "227845/227845 [==============================] - 138s 605us/sample - loss: 0.0080 - acc: 0.9987\n",
      "Epoch 2/100\n",
      "227845/227845 [==============================] - 107s 469us/sample - loss: 0.0045 - acc: 0.9993- loss: 0.\n",
      "Epoch 3/100\n",
      "227845/227845 [==============================] - 131s 575us/sample - loss: 0.0042 - acc: 0.9993\n",
      "Epoch 4/100\n",
      "227845/227845 [==============================] - 121s 533us/sample - loss: 0.0041 - acc: 0.9993\n",
      "Epoch 5/100\n",
      "227845/227845 [==============================] - 117s 514us/sample - loss: 0.0040 - acc: 0.9994\n",
      "Epoch 6/100\n",
      "227845/227845 [==============================] - 129s 564us/sample - loss: 0.0033 - acc: 0.9993- loss: 0.0033 - acc: 0.9\n",
      "Epoch 7/100\n",
      "227845/227845 [==============================] - 116s 511us/sample - loss: 0.0037 - acc: 0.9994- loss: - ETA: 2s - loss: 0.0037 - acc: 0.\n",
      "Epoch 8/100\n",
      "227845/227845 [==============================] - 140s 613us/sample - loss: 0.0035 - acc: 0.9994\n",
      "Epoch 9/100\n",
      "227845/227845 [==============================] - 119s 520us/sample - loss: 0.0033 - acc: 0.9994\n",
      "Epoch 10/100\n",
      "227845/227845 [==============================] - 118s 518us/sample - loss: 0.0035 - acc: 0.9994\n",
      "Epoch 11/100\n",
      "227845/227845 [==============================] - 139s 608us/sample - loss: 0.0031 - acc: 0.9993\n",
      "Epoch 12/100\n",
      "227845/227845 [==============================] - 160s 702us/sample - loss: 0.0031 - acc: 0.9994\n",
      "Epoch 13/100\n",
      "227845/227845 [==============================] - 149s 655us/sample - loss: 0.0034 - acc: 0.9994\n",
      "Epoch 14/100\n",
      "227845/227845 [==============================] - 91s 398us/sample - loss: 0.0033 - acc: 0.9994\n",
      "Epoch 15/100\n",
      "227845/227845 [==============================] - 128s 560us/sample - loss: 0.0034 - acc: 0.9994\n",
      "Epoch 16/100\n",
      "227845/227845 [==============================] - 110s 482us/sample - loss: 0.0031 - acc: 0.9994\n",
      "Epoch 17/100\n",
      "227845/227845 [==============================] - 150s 658us/sample - loss: 0.0038 - acc: 0.9994\n",
      "Epoch 18/100\n",
      "227845/227845 [==============================] - 111s 488us/sample - loss: 0.0033 - acc: 0.9995\n",
      "Epoch 19/100\n",
      "227845/227845 [==============================] - 96s 420us/sample - loss: 0.0031 - acc: 0.9994\n",
      "Epoch 20/100\n",
      "227845/227845 [==============================] - 105s 460us/sample - loss: 0.0035 - acc: 0.9994\n",
      "Epoch 21/100\n",
      "227845/227845 [==============================] - 121s 530us/sample - loss: 0.0031 - acc: 0.9994\n",
      "Epoch 22/100\n",
      "227845/227845 [==============================] - 123s 540us/sample - loss: 0.0027 - acc: 0.9994- loss: 0.0027  - ETA: 0s - loss: 0.0027 - acc: 0.999 - ETA: 0s - loss: 0.0027 - acc: 0.9\n",
      "Epoch 23/100\n",
      "227845/227845 [==============================] - 112s 492us/sample - loss: 0.0031 - acc: 0.9995- loss: 0.0031 -\n",
      "Epoch 24/100\n",
      "227845/227845 [==============================] - ETA: 0s - loss: 0.0027 - acc: 0.999 - 134s 590us/sample - loss: 0.0027 - acc: 0.9995\n",
      "Epoch 25/100\n",
      "227845/227845 [==============================] - 122s 533us/sample - loss: 0.0035 - acc: 0.9994- - ETA: 1s - loss: 0.0035 - acc: 0.9 - ETA: 1s -\n",
      "Epoch 26/100\n",
      "227845/227845 [==============================] - 122s 534us/sample - loss: 0.0030 - acc: 0.9994\n",
      "Epoch 27/100\n",
      "227845/227845 [==============================] - 94s 412us/sample - loss: 0.0028 - acc: 0.9994\n",
      "Epoch 28/100\n",
      "227845/227845 [==============================] - 101s 442us/sample - loss: 0.0030 - acc: 0.9994- loss: 0\n",
      "Epoch 29/100\n",
      "227845/227845 [==============================] - 89s 390us/sample - loss: 0.0029 - acc: 0.9994\n",
      "Epoch 30/100\n",
      "227845/227845 [==============================] - 95s 417us/sample - loss: 0.0031 - acc: 0.9994\n",
      "Epoch 31/100\n",
      "227845/227845 [==============================] - 133s 586us/sample - loss: 0.0029 - acc: 0.9994\n",
      "Epoch 32/100\n",
      "227845/227845 [==============================] - 100s 441us/sample - loss: 0.0035 - acc: 0.9994- los\n",
      "Epoch 33/100\n",
      "227845/227845 [==============================] - 113s 494us/sample - loss: 0.0025 - acc: 0.9994\n",
      "Epoch 34/100\n",
      "227845/227845 [==============================] - 97s 424us/sample - loss: 0.0027 - acc: 0.9995 - - ETA: 1s - \n",
      "Epoch 35/100\n",
      "227845/227845 [==============================] - 92s 403us/sample - loss: 0.0034 - acc: 0.9994\n",
      "Epoch 36/100\n",
      "227845/227845 [==============================] - 92s 402us/sample - loss: 0.0037 - acc: 0.9995\n",
      "Epoch 37/100\n",
      "227845/227845 [==============================] - 98s 430us/sample - loss: 0.0030 - acc: 0.9995\n",
      "Epoch 38/100\n",
      "227845/227845 [==============================] - 98s 429us/sample - loss: 0.0032 - acc: 0.9995\n",
      "Epoch 39/100\n",
      "227845/227845 [==============================] - 100s 438us/sample - loss: 0.0029 - acc: 0.9994- loss: 0.0029 -\n",
      "Epoch 40/100\n",
      "227845/227845 [==============================] - 129s 567us/sample - loss: 0.0028 - acc: 0.9994\n",
      "Epoch 41/100\n",
      "227845/227845 [==============================] - 103s 453us/sample - loss: 0.0031 - acc: 0.9994- loss: 0.\n",
      "Epoch 42/100\n",
      "227845/227845 [==============================] - ETA: 0s - loss: 0.0025 - acc: 0.999 - 123s 540us/sample - loss: 0.0025 - acc: 0.9995\n",
      "Epoch 43/100\n",
      "227845/227845 [==============================] - 104s 458us/sample - loss: 0.0032 - acc: 0.9995\n",
      "Epoch 44/100\n",
      "227845/227845 [==============================] - 102s 446us/sample - loss: 0.0034 - acc: 0.9994\n",
      "Epoch 45/100\n",
      "227845/227845 [==============================] - 125s 548us/sample - loss: 0.0042 - acc: 0.9994- loss: 0.0042 - acc:\n",
      "Epoch 46/100\n",
      "227845/227845 [==============================] - 118s 517us/sample - loss: 0.0028 - acc: 0.9995\n",
      "Epoch 47/100\n",
      "227845/227845 [==============================] - 121s 531us/sample - loss: 0.0034 - acc: 0.9995- loss: 0.0034 - ac - ETA: 1s - loss: 0.0034 - acc: 0.999 - ETA: 1s - loss: 0.0034 - acc: - ETA: 1s - loss: 0.0034  - ETA: 0s - loss: 0.0034 -\n",
      "Epoch 48/100\n",
      "227845/227845 [==============================] - 108s 475us/sample - loss: 0.0027 - acc: 0.9994- loss: 0.00 - ETA: 1s - lo\n",
      "Epoch 49/100\n",
      "227845/227845 [==============================] - 93s 408us/sample - loss: 0.0031 - acc: 0.9994\n",
      "Epoch 50/100\n",
      "227845/227845 [==============================] - 144s 633us/sample - loss: 0.0030 - acc: 0.9995- loss: 0\n",
      "Epoch 51/100\n",
      "227845/227845 [==============================] - 135s 594us/sample - loss: 0.0030 - acc: 0.9995\n",
      "Epoch 52/100\n",
      "227845/227845 [==============================] - 126s 551us/sample - loss: 0.0029 - acc: 0.9994\n",
      "Epoch 53/100\n",
      "227845/227845 [==============================] - 133s 582us/sample - loss: 0.0026 - acc: 0.9994\n",
      "Epoch 54/100\n",
      "227845/227845 [==============================] - 89s 389us/sample - loss: 0.0024 - acc: 0.9995\n",
      "Epoch 55/100\n",
      "227845/227845 [==============================] - 102s 446us/sample - loss: 0.0026 - acc: 0.9995\n",
      "Epoch 56/100\n",
      "227845/227845 [==============================] - 97s 427us/sample - loss: 0.0069 - acc: 0.9995\n",
      "Epoch 57/100\n",
      "227845/227845 [==============================] - 87s 384us/sample - loss: 0.0032 - acc: 0.9995  - ETA: 0s - loss: 0.0032 - acc: 0.99\n",
      "Epoch 58/100\n",
      "227845/227845 [==============================] - 94s 412us/sample - loss: 0.0024 - acc: 0.9995\n",
      "Epoch 59/100\n",
      "227845/227845 [==============================] - 103s 451us/sample - loss: 0.0060 - acc: 0.9995\n",
      "Epoch 60/100\n",
      "227845/227845 [==============================] - 92s 404us/sample - loss: 0.0030 - acc: 0.9994\n",
      "Epoch 61/100\n",
      "227845/227845 [==============================] - 98s 430us/sample - loss: 0.0025 - acc: 0.9995 - loss: 0.002\n",
      "Epoch 62/100\n",
      "227845/227845 [==============================] - 91s 401us/sample - loss: 0.0025 - acc: 0.9995\n",
      "Epoch 63/100\n",
      "227845/227845 [==============================] - 93s 406us/sample - loss: 0.0032 - acc: 0.9995 - loss: 0.0032 - acc: 0\n",
      "Epoch 64/100\n",
      "227845/227845 [==============================] - 96s 422us/sample - loss: 0.0030 - acc: 0.9995\n",
      "Epoch 65/100\n",
      "227845/227845 [==============================] - 146s 640us/sample - loss: 0.0031 - acc: 0.9995\n",
      "Epoch 66/100\n"
     ]
    },
    {
     "name": "stdout",
     "output_type": "stream",
     "text": [
      "227845/227845 [==============================] - 91s 400us/sample - loss: 0.0032 - acc: 0.9995\n",
      "Epoch 67/100\n",
      "227845/227845 [==============================] - 130s 571us/sample - loss: 0.0031 - acc: 0.9995 3s -\n",
      "Epoch 68/100\n",
      "227845/227845 [==============================] - 161s 705us/sample - loss: 0.0046 - acc: 0.9995-\n",
      "Epoch 69/100\n",
      "227845/227845 [==============================] - 216s 948us/sample - loss: 0.0036 - acc: 0.9995\n",
      "Epoch 70/100\n",
      "227845/227845 [==============================] - 173s 761us/sample - loss: 0.0026 - acc: 0.9995- los\n",
      "Epoch 73/100\n",
      "227845/227845 [==============================] - 104s 458us/sample - loss: 0.0036 - acc: 0.9995\n",
      "Epoch 74/100\n",
      "227845/227845 [==============================] - 107s 470us/sample - loss: 0.0025 - acc: 0.9995- loss: 0.0026 - acc: 0.999 - ETA: 1s - l\n",
      "Epoch 75/100\n",
      "227845/227845 [==============================] - ETA: 0s - loss: 0.0041 - acc: 0.9995- ETA: 1s  - 100s 438us/sample - loss: 0.0041 - acc: 0.9995\n",
      "Epoch 76/100\n",
      "227845/227845 [==============================] - 96s 421us/sample - loss: 0.0024 - acc: 0.9995\n",
      "Epoch 77/100\n",
      "227845/227845 [==============================] - 104s 455us/sample - loss: 0.0026 - acc: 0.9995- los\n",
      "Epoch 78/100\n",
      "227845/227845 [==============================] - 97s 425us/sample - loss: 0.0029 - acc: 0.9995ETA: 1s - loss:\n",
      "Epoch 79/100\n",
      "227845/227845 [==============================] - 107s 469us/sample - loss: 0.0023 - acc: 0.9995- loss: 0.0024 - acc: 0.999 - ETA: 1s - loss: 0.0024 - acc: 0.99 - ETA: 1s - loss: 0\n",
      "Epoch 80/100\n",
      "227845/227845 [==============================] - 115s 505us/sample - loss: 0.0027 - acc: 0.9995\n",
      "Epoch 81/100\n",
      "227845/227845 [==============================] - 89s 393us/sample - loss: 0.0033 - acc: 0.9995\n",
      "Epoch 82/100\n",
      "227845/227845 [==============================] - 148s 650us/sample - loss: 0.0039 - acc: 0.9995- loss: 0.0039 - acc:\n",
      "Epoch 83/100\n",
      "227845/227845 [==============================] - 153s 671us/sample - loss: 0.0029 - acc: 0.9995- loss: 0.0029 - acc:  - ETA: 1s - loss: \n",
      "Epoch 84/100\n",
      "227845/227845 [==============================] - 165s 722us/sample - loss: 0.0025 - acc: 0.9995- loss: 0.0\n",
      "Epoch 85/100\n",
      "227845/227845 [==============================] - 153s 670us/sample - loss: 0.0043 - acc: 0.9995 - ETA: 0s - loss: 0.0043 - acc\n",
      "Epoch 86/100\n",
      "227845/227845 [==============================] - 151s 662us/sample - loss: 0.0024 - acc: 0.9995- los - ETA: 1s - loss: 0.0024 - acc: 0.99 - ETA: 1s - lo\n",
      "Epoch 87/100\n",
      "227845/227845 [==============================] - 135s 591us/sample - loss: 0.0033 - acc: 0.9996\n",
      "Epoch 88/100\n",
      "227845/227845 [==============================] - 238s 1ms/sample - loss: 0.0029 - acc: 0.9995s - loss: 0.0029 -\n",
      "Epoch 89/100\n",
      "227845/227845 [==============================] - 187s 821us/sample - loss: 0.0031 - acc: 0.9995- loss: 0.0032 - acc: - ETA: 3s - loss:  - \n",
      "Epoch 90/100\n",
      "227845/227845 [==============================] - 162s 711us/sample - loss: 0.0026 - acc: 0.9995- loss: 0.0026 - acc: 0. - ETA: 6s - loss: 0.0026\n",
      "Epoch 91/100\n",
      "227845/227845 [==============================] - 130s 571us/sample - loss: 0.0035 - acc: 0.9995\n",
      "Epoch 92/100\n",
      "227845/227845 [==============================] - 165s 725us/sample - loss: 0.0046 - acc: 0.9995\n",
      "Epoch 93/100\n",
      "227845/227845 [==============================] - 145s 637us/sample - loss: 0.0023 - acc: 0.9996- loss: 0.0023 - acc - ETA: 1s\n",
      "Epoch 94/100\n",
      "227845/227845 [==============================] - 143s 629us/sample - loss: 0.0034 - acc: 0.9994- loss: 0.0034 - acc: 0.99\n",
      "Epoch 95/100\n",
      "227845/227845 [==============================] - 152s 669us/sample - loss: 0.0019 - acc: 0.9995- loss\n",
      "Epoch 96/100\n",
      "227845/227845 [==============================] - 153s 672us/sample - loss: 0.0047 - acc: 0.9996\n",
      "Epoch 97/100\n",
      "227845/227845 [==============================] - 151s 662us/sample - loss: 0.0036 - acc: 0.9995\n",
      "Epoch 98/100\n",
      "227845/227845 [==============================] - 148s 650us/sample - loss: 0.0045 - acc: 0.9995- loss: 0.0045 -\n",
      "Epoch 99/100\n",
      "227845/227845 [==============================] - 138s 605us/sample - loss: 0.0018 - acc: 0.9996\n",
      "Epoch 100/100\n",
      "227845/227845 [==============================] - 149s 653us/sample - loss: 0.0034 - acc: 0.9995\n"
     ]
    },
    {
     "data": {
      "text/plain": [
       "<tensorflow.python.keras.callbacks.History at 0x1dd2080f288>"
      ]
     },
     "execution_count": 46,
     "metadata": {},
     "output_type": "execute_result"
    }
   ],
   "source": [
    "from tensorflow.keras.layers import Dense,Dropout\n",
    "from tensorflow.keras.models import Sequential\n",
    "\n",
    "ann=Sequential()\n",
    "# input layer\n",
    "ann.add(Dense(56,activation='relu'))\n",
    "ann.add(Dropout(0.2))\n",
    "# hidden layer\n",
    "ann.add(Dense(56,activation='relu'))\n",
    "ann.add(Dropout(0.2))\n",
    "\n",
    "ann.add(Dense(56,activation='relu'))\n",
    "ann.add(Dropout(0.2))\n",
    "\n",
    "ann.add(Dense(56,activation='relu'))\n",
    "ann.add(Dropout(0.2))\n",
    "# output layer\n",
    "ann.add(Dense(1,activation='sigmoid'))\n",
    "\n",
    "# compiling the ann\n",
    "ann.compile(optimizer='adam',loss='binary_crossentropy',metrics=['accuracy'])\n",
    "# training the ann\n",
    "ann.fit(x_train,y_train,batch_size=32,epochs=100)"
   ]
  },
  {
   "cell_type": "code",
   "execution_count": 48,
   "metadata": {
    "scrolled": true
   },
   "outputs": [
    {
     "data": {
      "text/plain": [
       "array([[0.],\n",
       "       [0.],\n",
       "       [0.],\n",
       "       ...,\n",
       "       [0.],\n",
       "       [0.],\n",
       "       [0.]], dtype=float32)"
      ]
     },
     "execution_count": 48,
     "metadata": {},
     "output_type": "execute_result"
    }
   ],
   "source": [
    "y_prediction=ann.predict(x_test)\n",
    "y_prediction"
   ]
  },
  {
   "cell_type": "code",
   "execution_count": 53,
   "metadata": {},
   "outputs": [
    {
     "name": "stdout",
     "output_type": "stream",
     "text": [
      "56962/56962 [==============================] - 17s 296us/sample - loss: 0.0598 - acc: 0.9995 - \n"
     ]
    },
    {
     "data": {
      "text/plain": [
       "0.99947333"
      ]
     },
     "execution_count": 53,
     "metadata": {},
     "output_type": "execute_result"
    }
   ],
   "source": [
    "ann_accuracy=ann.evaluate(x_test,y_test)\n",
    "ann_accuracy[1]"
   ]
  },
  {
   "cell_type": "code",
   "execution_count": 54,
   "metadata": {},
   "outputs": [
    {
     "data": {
      "text/plain": [
       "{'Random Forest Classifier': 99.93504441557529,\n",
       " 'Logistic Regression': 99.91924440855307,\n",
       " 'Naive Bayes Classifier': 97.82311014360451,\n",
       " 'Decision Tree Classifier': 99.91573329588147,\n",
       " 'XGBoost Classifier': 99.95962220427653,\n",
       " 'ANN': 99.94733333587646}"
      ]
     },
     "execution_count": 54,
     "metadata": {},
     "output_type": "execute_result"
    }
   ],
   "source": [
    "# A dictionary list of differerent model prediction accuracies\n",
    "model_accuracy_dict={\"Random Forest Classifier\": rand_forest_accuracy,\n",
    "                     \"Logistic Regression\": log_reg_accuracy,\n",
    "                     \"Naive Bayes Classifier\": naive_bayes, \n",
    "                     \"Decision Tree Classifier\": Dec_tree, \n",
    "                     \"XGBoost Classifier\": xgboost,\n",
    "                     \"ANN\": ann_accuracy[1]*100}\n",
    "            \n",
    "model_accuracy_dict"
   ]
  },
  {
   "cell_type": "code",
   "execution_count": 55,
   "metadata": {},
   "outputs": [
    {
     "name": "stdout",
     "output_type": "stream",
     "text": [
      "optimum prediction accuracy percentage: 99.95962220427653\n"
     ]
    }
   ],
   "source": [
    "# display optimum prediction accuracy percentage\n",
    "print('optimum prediction accuracy percentage:',max(model_dict.values()))"
   ]
  },
  {
   "cell_type": "code",
   "execution_count": null,
   "metadata": {},
   "outputs": [],
   "source": []
  },
  {
   "cell_type": "code",
   "execution_count": null,
   "metadata": {},
   "outputs": [],
   "source": []
  }
 ],
 "metadata": {
  "kernelspec": {
   "display_name": "Python 3",
   "language": "python",
   "name": "python3"
  },
  "language_info": {
   "codemirror_mode": {
    "name": "ipython",
    "version": 3
   },
   "file_extension": ".py",
   "mimetype": "text/x-python",
   "name": "python",
   "nbconvert_exporter": "python",
   "pygments_lexer": "ipython3",
   "version": "3.7.6"
  }
 },
 "nbformat": 4,
 "nbformat_minor": 4
}
